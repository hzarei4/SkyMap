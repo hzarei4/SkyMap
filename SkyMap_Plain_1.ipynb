{
 "cells": [
  {
   "cell_type": "code",
   "execution_count": 2,
   "metadata": {},
   "outputs": [],
   "source": [
    "import numpy as np\n",
    "import matplotlib.pyplot as plt\n",
    "import math, time, datetime, os, ephem\n",
    "\n"
   ]
  },
  {
   "cell_type": "code",
   "execution_count": 3,
   "metadata": {},
   "outputs": [],
   "source": [
    "def apparent_stars(star_catalog_name):\n",
    "    \n",
    "    star_catalog = np.genfromtxt('%s.csv' %star_catalog_name, delimiter=',')    # 0.105 sec execution time\n",
    "    \n",
    "    stars_id = star_catalog[:,0][1::]\n",
    "    stars_ra = star_catalog[:,1][1::]\n",
    "    stars_dec = star_catalog[:,2][1::]\n",
    "    stars_mag = star_catalog[:,3][1::]\n",
    "    return stars_id, stars_ra, stars_dec, stars_mag"
   ]
  },
  {
   "cell_type": "code",
   "execution_count": 5,
   "metadata": {},
   "outputs": [
    {
     "name": "stdout",
     "output_type": "stream",
     "text": [
      "0.033843994140625\n"
     ]
    }
   ],
   "source": [
    "stars_id, stars_ra, stars_dec, stars_mag = apparent_stars('HIP_mag6')"
   ]
  },
  {
   "cell_type": "code",
   "execution_count": null,
   "metadata": {},
   "outputs": [],
   "source": []
  },
  {
   "cell_type": "code",
   "execution_count": null,
   "metadata": {},
   "outputs": [],
   "source": []
  },
  {
   "cell_type": "code",
   "execution_count": null,
   "metadata": {},
   "outputs": [],
   "source": []
  }
 ],
 "metadata": {
  "kernelspec": {
   "display_name": "Python 3",
   "language": "python",
   "name": "python3"
  },
  "language_info": {
   "codemirror_mode": {
    "name": "ipython",
    "version": 3
   },
   "file_extension": ".py",
   "mimetype": "text/x-python",
   "name": "python",
   "nbconvert_exporter": "python",
   "pygments_lexer": "ipython3",
   "version": "3.7.3"
  }
 },
 "nbformat": 4,
 "nbformat_minor": 4
}
